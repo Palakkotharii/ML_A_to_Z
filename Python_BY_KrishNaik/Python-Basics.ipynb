{
 "cells": [
  {
   "cell_type": "code",
   "execution_count": 1,
   "id": "0fb2ca82",
   "metadata": {},
   "outputs": [
    {
     "name": "stdout",
     "output_type": "stream",
     "text": [
      "The Zen of Python, by Tim Peters\n",
      "\n",
      "Beautiful is better than ugly.\n",
      "Explicit is better than implicit.\n",
      "Simple is better than complex.\n",
      "Complex is better than complicated.\n",
      "Flat is better than nested.\n",
      "Sparse is better than dense.\n",
      "Readability counts.\n",
      "Special cases aren't special enough to break the rules.\n",
      "Although practicality beats purity.\n",
      "Errors should never pass silently.\n",
      "Unless explicitly silenced.\n",
      "In the face of ambiguity, refuse the temptation to guess.\n",
      "There should be one-- and preferably only one --obvious way to do it.\n",
      "Although that way may not be obvious at first unless you're Dutch.\n",
      "Now is better than never.\n",
      "Although never is often better than *right* now.\n",
      "If the implementation is hard to explain, it's a bad idea.\n",
      "If the implementation is easy to explain, it may be a good idea.\n",
      "Namespaces are one honking great idea -- let's do more of those!\n"
     ]
    }
   ],
   "source": [
    "import this "
   ]
  },
  {
   "cell_type": "code",
   "execution_count": 3,
   "id": "15d058e8",
   "metadata": {},
   "outputs": [
    {
     "name": "stdout",
     "output_type": "stream",
     "text": [
      "11\n"
     ]
    }
   ],
   "source": [
    "a=5\n",
    "b=6\n",
    "print(a+b)"
   ]
  },
  {
   "cell_type": "code",
   "execution_count": 4,
   "id": "178d45ac",
   "metadata": {},
   "outputs": [
    {
     "data": {
      "text/plain": [
       "11"
      ]
     },
     "execution_count": 4,
     "metadata": {},
     "output_type": "execute_result"
    }
   ],
   "source": [
    "a+b"
   ]
  },
  {
   "cell_type": "markdown",
   "id": "21e39016",
   "metadata": {},
   "source": [
    "## Comments "
   ]
  },
  {
   "cell_type": "code",
   "execution_count": 8,
   "id": "1bcc2965",
   "metadata": {},
   "outputs": [],
   "source": [
    "# This is single line::\n",
    "'''\n",
    " this is multiline\n",
    "'''"
   ]
  },
  {
   "cell_type": "markdown",
   "id": "8479d2e3",
   "metadata": {},
   "source": [
    "##  Variable decalartion :"
   ]
  },
  {
   "cell_type": "code",
   "execution_count": 10,
   "id": "ec3b403c",
   "metadata": {},
   "outputs": [
    {
     "name": "stdout",
     "output_type": "stream",
     "text": [
      "<class 'int'>\n",
      "Palak\n"
     ]
    }
   ],
   "source": [
    "a=10\n",
    "print(type(a))\n",
    "\n",
    "first_name = \"Palak\"\n",
    "print(first_name)"
   ]
  },
  {
   "cell_type": "code",
   "execution_count": 11,
   "id": "3386889a",
   "metadata": {},
   "outputs": [
    {
     "name": "stdout",
     "output_type": "stream",
     "text": [
      "30.5\n",
      "<class 'bool'>\n"
     ]
    }
   ],
   "source": [
    "a=10.5\n",
    "b=20\n",
    "print(a+b)\n",
    "\n",
    "d= True\n",
    "print(type(d))"
   ]
  },
  {
   "cell_type": "markdown",
   "id": "9829cd45",
   "metadata": {},
   "source": [
    "## Type Conversions :"
   ]
  },
  {
   "cell_type": "code",
   "execution_count": 10,
   "id": "e2784dd0",
   "metadata": {},
   "outputs": [
    {
     "name": "stdout",
     "output_type": "stream",
     "text": [
      "<class 'float'>\n",
      "<class 'int'>\n"
     ]
    }
   ],
   "source": [
    "print(type(a))\n",
    "c=int(a)\n",
    "print(type(c))"
   ]
  },
  {
   "cell_type": "code",
   "execution_count": 14,
   "id": "490baa49",
   "metadata": {},
   "outputs": [
    {
     "name": "stdout",
     "output_type": "stream",
     "text": [
      "Palak\n",
      "<class 'str'>\n"
     ]
    },
    {
     "data": {
      "text/plain": [
       "'Palak Kothari'"
      ]
     },
     "execution_count": 14,
     "metadata": {},
     "output_type": "execute_result"
    }
   ],
   "source": [
    "# strings :\n",
    "name1= \"Palak\"\n",
    "print(name1)\n",
    "print(type(name1))\n",
    "\n",
    "#  Concatenation operation :\n",
    "name1+\" Kothari\""
   ]
  },
  {
   "cell_type": "code",
   "execution_count": 17,
   "id": "5e01f6c9",
   "metadata": {},
   "outputs": [
    {
     "data": {
      "text/plain": [
       "'Palak1'"
      ]
     },
     "execution_count": 17,
     "metadata": {},
     "output_type": "execute_result"
    }
   ],
   "source": [
    "st=\"Palak\"+str(1)\n",
    "st"
   ]
  },
  {
   "cell_type": "code",
   "execution_count": 18,
   "id": "ba502e06",
   "metadata": {},
   "outputs": [
    {
     "name": "stdout",
     "output_type": "stream",
     "text": [
      "My First name is Palak and last name is Kothari\n"
     ]
    }
   ],
   "source": [
    "#  String Formatting :\n",
    "first_name = \"Palak\"\n",
    "last_name = \"Kothari\"\n",
    "\n",
    "print(\"My First name is {} and last name is {}\".format(first_name , last_name))"
   ]
  },
  {
   "cell_type": "code",
   "execution_count": 20,
   "id": "43055130",
   "metadata": {},
   "outputs": [
    {
     "name": "stdout",
     "output_type": "stream",
     "text": [
      "Enter your name :palak\n",
      "enter a no12\n"
     ]
    },
    {
     "data": {
      "text/plain": [
       "12"
      ]
     },
     "execution_count": 20,
     "metadata": {},
     "output_type": "execute_result"
    }
   ],
   "source": [
    "#  Input :\n",
    "a= input(\"Enter your name :\")\n",
    "a\n",
    "b= int(input(\"enter a no\"))\n",
    "b"
   ]
  },
  {
   "cell_type": "code",
   "execution_count": null,
   "id": "5f20993d",
   "metadata": {},
   "outputs": [],
   "source": []
  }
 ],
 "metadata": {
  "kernelspec": {
   "display_name": "Python 3 (ipykernel)",
   "language": "python",
   "name": "python3"
  },
  "language_info": {
   "codemirror_mode": {
    "name": "ipython",
    "version": 3
   },
   "file_extension": ".py",
   "mimetype": "text/x-python",
   "name": "python",
   "nbconvert_exporter": "python",
   "pygments_lexer": "ipython3",
   "version": "3.11.5"
  }
 },
 "nbformat": 4,
 "nbformat_minor": 5
}
